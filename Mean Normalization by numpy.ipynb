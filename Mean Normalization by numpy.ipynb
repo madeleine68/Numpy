{
 "cells": [
  {
   "cell_type": "markdown",
   "metadata": {},
   "source": [
    "# Mean Normalization"
   ]
  },
  {
   "cell_type": "code",
   "execution_count": 2,
   "metadata": {},
   "outputs": [],
   "source": [
    "import numpy as np\n",
    "import random"
   ]
  },
  {
   "cell_type": "markdown",
   "metadata": {},
   "source": [
    "### creating a rank 2 ndarray of random integers between 0 and 5,000 (inclusive) with 1000 rows and 20 columns."
   ]
  },
  {
   "cell_type": "code",
   "execution_count": 10,
   "metadata": {},
   "outputs": [
    {
     "data": {
      "text/plain": [
       "(1000, 20)"
      ]
     },
     "execution_count": 10,
     "metadata": {},
     "output_type": "execute_result"
    }
   ],
   "source": [
    "X = np.random.randint(0,5001, (1000,20))\n",
    "\n",
    "X.shape"
   ]
  },
  {
   "cell_type": "markdown",
   "metadata": {},
   "source": [
    "## perform mean normalization"
   ]
  },
  {
   "cell_type": "code",
   "execution_count": 18,
   "metadata": {},
   "outputs": [
    {
     "name": "stdout",
     "output_type": "stream",
     "text": [
      "(20,)\n"
     ]
    }
   ],
   "source": [
    "avg_col = np.mean(X, axis=0)\n",
    "print(avg_col.shape)"
   ]
  },
  {
   "cell_type": "code",
   "execution_count": 17,
   "metadata": {},
   "outputs": [
    {
     "name": "stdout",
     "output_type": "stream",
     "text": [
      "(20,)\n"
     ]
    }
   ],
   "source": [
    "std_col=X.std(axis=0)\n",
    "print(std_col.shape)"
   ]
  },
  {
   "cell_type": "code",
   "execution_count": 19,
   "metadata": {},
   "outputs": [],
   "source": [
    "X_norm = (X-avg_col) / std_col"
   ]
  },
  {
   "cell_type": "markdown",
   "metadata": {},
   "source": [
    "the average of all the elements in $X_{\\tiny{\\mbox{norm}}}$ should be close to zero"
   ]
  },
  {
   "cell_type": "code",
   "execution_count": 22,
   "metadata": {},
   "outputs": [
    {
     "name": "stdout",
     "output_type": "stream",
     "text": [
      "[-1.34336986e-16 -6.82787160e-18 -6.63913369e-17 -5.72875081e-17\n",
      " -7.07350845e-17  1.70974346e-17  4.96824804e-17  3.18356452e-17\n",
      " -4.35207426e-17 -3.35842465e-17  7.43849426e-17  1.31339384e-16\n",
      " -1.37112544e-16 -4.04121181e-17 -1.53432822e-16 -1.32116540e-16\n",
      "  1.16906484e-16  1.35447209e-17  1.24567023e-16  6.50590692e-17]\n"
     ]
    }
   ],
   "source": [
    "print(np.mean(X_norm, axis=0))"
   ]
  },
  {
   "cell_type": "code",
   "execution_count": 23,
   "metadata": {},
   "outputs": [
    {
     "name": "stdout",
     "output_type": "stream",
     "text": [
      "[-1.77103691 -1.81985702 -1.72085171 -1.68132276 -1.71613681 -1.68436781\n",
      " -1.72418948 -1.79404857 -1.70965993 -1.69712622 -1.73697022 -1.75833904\n",
      " -1.72446442 -1.78964502 -1.72241174 -1.74296572 -1.74528172 -1.78320257\n",
      " -1.70967581 -1.73252757]\n"
     ]
    }
   ],
   "source": [
    "print(np.min(X_norm, axis=0))"
   ]
  },
  {
   "cell_type": "code",
   "execution_count": 24,
   "metadata": {},
   "outputs": [
    {
     "name": "stdout",
     "output_type": "stream",
     "text": [
      "[1.76359424 1.71017724 1.71124815 1.75539079 1.69064162 1.68755885\n",
      " 1.68671593 1.75382371 1.74213447 1.77709597 1.69373712 1.74817927\n",
      " 1.82623745 1.76492094 1.70240724 1.72202042 1.70621268 1.7078677\n",
      " 1.70028288 1.68943336]\n"
     ]
    }
   ],
   "source": [
    "print(np.max(X_norm, axis=0))"
   ]
  },
  {
   "cell_type": "markdown",
   "metadata": {},
   "source": [
    "# Data Separation\n",
    "The dataset is usually divided such that the Training Set contains 60% of the data, the Cross Validation Set contains 20% of the data, and the Test Set contains 20% of the data.\n",
    "\n",
    "Each data set will contain rows of X_norm chosen at random, making sure that we don't pick the same row twice. This will guarantee that all the rows of X_norm are chosen and randomly distributed among the three new sets.\n",
    "\n",
    "By using the np.random.permutation() function. The np.random.permutation(N) function creates a random permutation of integers from 0 to N - 1."
   ]
  },
  {
   "cell_type": "code",
   "execution_count": 27,
   "metadata": {},
   "outputs": [],
   "source": [
    "row_indices = np.random.permutation(X_norm.shape[0])"
   ]
  },
  {
   "cell_type": "code",
   "execution_count": 30,
   "metadata": {},
   "outputs": [],
   "source": [
    "X_train = X_norm[row_indices[0:600]]\n",
    "X_crossVal = X_norm[row_indices[600:800]]\n",
    "X_test = X_norm[row_indices[800:]]"
   ]
  },
  {
   "cell_type": "code",
   "execution_count": 31,
   "metadata": {},
   "outputs": [
    {
     "name": "stdout",
     "output_type": "stream",
     "text": [
      "(600, 20)\n",
      "(200, 20)\n",
      "(200, 20)\n"
     ]
    }
   ],
   "source": [
    "# Print the shape of X_train\n",
    "print(X_train.shape)\n",
    "# Print the shape of X_crossVal\n",
    "print(X_crossVal.shape)\n",
    "# Print the shape of X_test\n",
    "print(X_test.shape)"
   ]
  },
  {
   "cell_type": "code",
   "execution_count": null,
   "metadata": {},
   "outputs": [],
   "source": []
  }
 ],
 "metadata": {
  "kernelspec": {
   "display_name": "Python 3",
   "language": "python",
   "name": "python3"
  },
  "language_info": {
   "codemirror_mode": {
    "name": "ipython",
    "version": 3
   },
   "file_extension": ".py",
   "mimetype": "text/x-python",
   "name": "python",
   "nbconvert_exporter": "python",
   "pygments_lexer": "ipython3",
   "version": "3.8.5"
  }
 },
 "nbformat": 4,
 "nbformat_minor": 4
}
